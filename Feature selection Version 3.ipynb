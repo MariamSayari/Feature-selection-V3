{
 "cells": [
  {
   "cell_type": "markdown",
   "metadata": {},
   "source": [
    "## Selecting and Generating Features"
   ]
  },
  {
   "cell_type": "raw",
   "metadata": {},
   "source": [
    "À la ligne 5, nous chargeons l'ensemble des données. Ensuite, à la ligne 6, les features sont extraites du df pandas.DataFrame contenant les Time series. La pandas.DataFrame X résultante, la matrice de conception, comprend 4536 caractéristiques de la série temporelle. Enfin, the feature selection of tsfresh est utilisée pour filtrer les Features non pertinentes. "
   ]
  },
  {
   "cell_type": "code",
   "execution_count": 1,
   "metadata": {},
   "outputs": [
    {
     "name": "stderr",
     "output_type": "stream",
     "text": [
      "C:\\Users\\MARIEM\\Anaconda3\\lib\\site-packages\\statsmodels\\compat\\pandas.py:49: FutureWarning: The Panel class is removed from pandas. Accessing it from the top-level namespace will also be removed in the next version\n",
      "  data_klasses = (pandas.Series, pandas.DataFrame, pandas.Panel)\n",
      "Feature Extraction: 100%|██████████████████████████████████████████████████████████████| 10/10 [00:43<00:00,  3.57s/it]\n",
      "C:\\Users\\MARIEM\\Anaconda3\\lib\\site-packages\\tsfresh\\utilities\\dataframe_functions.py:170: RuntimeWarning: The columns ['F_x__agg_linear_trend__f_agg_\"max\"__chunk_len_50__attr_\"intercept\"'\n",
      " 'F_x__agg_linear_trend__f_agg_\"max\"__chunk_len_50__attr_\"rvalue\"'\n",
      " 'F_x__agg_linear_trend__f_agg_\"max\"__chunk_len_50__attr_\"slope\"' ...\n",
      " 'T_z__fft_coefficient__coeff_9__attr_\"imag\"'\n",
      " 'T_z__fft_coefficient__coeff_9__attr_\"real\"'\n",
      " 'T_z__spkt_welch_density__coeff_8'] did not have any finite values. Filling with zeros.\n",
      "  df.iloc[:, np.where(is_col_non_finite)[0]].columns.values), RuntimeWarning)\n"
     ]
    }
   ],
   "source": [
    "from tsfresh import select_features, extract_features \n",
    "from tsfresh.examples.robot_execution_failures import load_robot_execution_failures\n",
    "from tsfresh.utilities.dataframe_functions import impute\n",
    "\n",
    "df, y=load_robot_execution_failures()\n",
    "X=extract_features(df, column_id='id', column_sort='time')\n",
    "impute(X) #remplacer les valeurs non finies\n",
    "X_filtered = select_features(X,y)"
   ]
  },
  {
   "cell_type": "code",
   "execution_count": null,
   "metadata": {},
   "outputs": [],
   "source": [
    "X #Aprés : \"select_features()\" nous avons 627, les features les plus importants."
   ]
  },
  {
   "cell_type": "code",
   "execution_count": null,
   "metadata": {},
   "outputs": [],
   "source": [
    "#j'ajoute 2 colonnes str\n",
    "L=[]\n",
    "M=[]\n",
    "for i in range (88):\n",
    "    L.append('a')\n",
    "for i in range (88):\n",
    "    M.append('M')"
   ]
  },
  {
   "cell_type": "code",
   "execution_count": null,
   "metadata": {},
   "outputs": [],
   "source": [
    "X_filtered['feat']=L\n",
    "X_filtered['feat1']=M"
   ]
  },
  {
   "cell_type": "code",
   "execution_count": null,
   "metadata": {},
   "outputs": [],
   "source": [
    "X_filtered #j'ai ajouté 2 colonnes de chaine de caracteres"
   ]
  },
  {
   "cell_type": "code",
   "execution_count": null,
   "metadata": {},
   "outputs": [],
   "source": [
    "H = select_features(X_filtered,y)"
   ]
  }
 ],
 "metadata": {
  "kernelspec": {
   "display_name": "Python 3",
   "language": "python",
   "name": "python3"
  },
  "language_info": {
   "codemirror_mode": {
    "name": "ipython",
    "version": 3
   },
   "file_extension": ".py",
   "mimetype": "text/x-python",
   "name": "python",
   "nbconvert_exporter": "python",
   "pygments_lexer": "ipython3",
   "version": "3.7.1"
  }
 },
 "nbformat": 4,
 "nbformat_minor": 2
}
